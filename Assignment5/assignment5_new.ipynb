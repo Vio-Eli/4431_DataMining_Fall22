{
 "cells": [
  {
   "cell_type": "code",
   "execution_count": 864,
   "id": "df6a4f57",
   "metadata": {
    "scrolled": true
   },
   "outputs": [],
   "source": [
    "# !pip install yellowbrick"
   ]
  },
  {
   "cell_type": "code",
   "execution_count": 865,
   "id": "ed71ecc7",
   "metadata": {},
   "outputs": [],
   "source": [
    "import pandas as pd\n",
    "import numpy as np\n",
    "from itertools import cycle\n",
    "\n",
    "import matplotlib.pyplot as plt\n",
    "import plotly.express as px\n",
    "import seaborn as sns\n",
    "from scipy.cluster.hierarchy import dendrogram, linkage\n",
    "\n",
    "from sklearn.cluster import KMeans, AffinityPropagation, AgglomerativeClustering, estimate_bandwidth, MeanShift, SpectralClustering, OPTICS, DBSCAN\n",
    "from sklearn.mixture import GaussianMixture\n",
    "from sklearn.preprocessing import StandardScaler\n",
    "from sklearn.decomposition import PCA\n",
    "from sklearn import metrics\n",
    "\n",
    "from yellowbrick.cluster import KElbowVisualizer\n",
    "\n",
    "%matplotlib inline"
   ]
  },
  {
   "cell_type": "markdown",
   "id": "10d358c5",
   "metadata": {},
   "source": [
    "## Importing and cleaning data"
   ]
  },
  {
   "cell_type": "code",
   "execution_count": 866,
   "id": "e50a7def",
   "metadata": {},
   "outputs": [],
   "source": [
    "# Import data and clean up dataframe\n",
    "data = pd.read_csv('irisdata.txt', sep = ',', header = None)\n",
    "data.columns = ['Sepal Length', 'Sepal Width', 'Petal Length', 'Petal Width', 'Species']\n",
    "data.at[34, 'Petal Width'] = 0.2\n",
    "data.at[37, 'Sepal Width'] = 3.6\n",
    "data.at[37, 'Petal Length'] = 1.4"
   ]
  },
  {
   "cell_type": "markdown",
   "id": "382ba12a",
   "metadata": {},
   "source": [
    "## Elbow Plot"
   ]
  },
  {
   "cell_type": "code",
   "execution_count": null,
   "id": "66628aa7",
   "metadata": {
    "pycharm": {
     "is_executing": true
    },
    "scrolled": false
   },
   "outputs": [],
   "source": [
    "# Create an elbow plot using k-means \n",
    "distortions = []\n",
    "K = range(1,10)\n",
    "for k in K:\n",
    "    kmeanModel = KMeans(n_clusters=k)\n",
    "    kmeanModel.fit(data.loc[:, data.columns != 'Species'])\n",
    "    distortions.append(kmeanModel.inertia_)\n",
    "    \n",
    "plt.figure(figsize=(16,8))\n",
    "plt.plot(K, distortions, 'bx-')\n",
    "plt.xlabel('k')\n",
    "plt.ylabel('Distortion')\n",
    "plt.title('The Elbow Method showing the optimal k')\n",
    "plt.show()"
   ]
  },
  {
   "cell_type": "code",
   "execution_count": null,
   "id": "f8f8a455",
   "metadata": {
    "pycharm": {
     "is_executing": true
    },
    "scrolled": true
   },
   "outputs": [],
   "source": [
    "# create an elbow plot using KElbowVisualizer from the yellowbrick package\n",
    "# default metric: distortion\n",
    "visualizer1 = KElbowVisualizer(KMeans(),k=(2,10),timings=False)\n",
    "\n",
    "visualizer1.fit(data.loc[:, data.columns != 'Species'])\n",
    "visualizer1.show()\n",
    "\n"
   ]
  },
  {
   "cell_type": "code",
   "execution_count": null,
   "id": "c477bef2",
   "metadata": {
    "pycharm": {
     "is_executing": true
    }
   },
   "outputs": [],
   "source": [
    "# metric 2: silhouette\n",
    "visualizer2 = KElbowVisualizer(KMeans(),k=(2,10),metric='silhouette',timings=False)\n",
    "\n",
    "visualizer2.fit(data.loc[:, data.columns != 'Species'])\n",
    "visualizer2.show()"
   ]
  },
  {
   "cell_type": "code",
   "execution_count": null,
   "id": "18ac5af4",
   "metadata": {
    "pycharm": {
     "is_executing": true
    },
    "scrolled": true
   },
   "outputs": [],
   "source": [
    "# metric 3: calinski_harabasz\n",
    "visualizer3 = KElbowVisualizer(KMeans(),k=(2,10),metric='calinski_harabasz',timings=False)\n",
    "\n",
    "visualizer3.fit(data.loc[:, data.columns != 'Species'])\n",
    "visualizer3.show()"
   ]
  },
  {
   "cell_type": "markdown",
   "id": "71119815",
   "metadata": {},
   "source": [
    "## PCA"
   ]
  },
  {
   "cell_type": "code",
   "execution_count": null,
   "id": "28bd0c6c",
   "metadata": {
    "pycharm": {
     "is_executing": true
    },
    "scrolled": true
   },
   "outputs": [],
   "source": [
    "#SCREE plot to determine how many components to use\n",
    "features = data[['Sepal Length', 'Sepal Width', 'Petal Length', 'Petal Width']]\n",
    "scaled_features = StandardScaler().fit_transform(features)\n",
    "scree_pca = PCA(n_components=4)\n",
    "scree_fit = scree_pca.fit(scaled_features)\n",
    "\n",
    "PC_values = np.arange(scree_pca.n_components_) + 1\n",
    "\n",
    "plt.plot(PC_values,scree_pca.explained_variance_ratio_)\n",
    "plt.title('Scree Plot')\n",
    "plt.xlabel('Principal Component')\n",
    "plt.xticks(ticks=[1,2,3,4])\n",
    "plt.ylabel('Variance Explained')\n",
    "for a,b in zip(PC_values,scree_pca.explained_variance_ratio_):\n",
    "    plt.text(a,b, str(round(b,2)))\n",
    "plt.show()"
   ]
  },
  {
   "cell_type": "markdown",
   "id": "b0482cbb",
   "metadata": {},
   "source": [
    "As shown with our scree plot, PC4 only explains ~1% of the variance, so we can explain 99% of our variance using only 3 features."
   ]
  },
  {
   "cell_type": "code",
   "execution_count": null,
   "id": "1a50b92a",
   "metadata": {
    "pycharm": {
     "is_executing": true
    }
   },
   "outputs": [],
   "source": [
    "# Reduce dataframe using PCA\n",
    "pca = PCA(n_components=3)\n",
    "principalComponents = pca.fit_transform(scaled_features)\n",
    "pca_df = pd.DataFrame(principalComponents,columns=['PC1','PC2','PC3'])\n",
    "pca_df.head()"
   ]
  },
  {
   "cell_type": "code",
   "execution_count": null,
   "id": "94ced7ca",
   "metadata": {
    "pycharm": {
     "is_executing": true
    }
   },
   "outputs": [],
   "source": [
    "# 2d scatter plot of PCA\n",
    "fig = px.scatter(pca_df, x='PC1', y='PC2', color=data['Species'])\n",
    "fig.show()"
   ]
  },
  {
   "cell_type": "code",
   "execution_count": null,
   "id": "86566c5f",
   "metadata": {
    "pycharm": {
     "is_executing": true
    },
    "scrolled": true
   },
   "outputs": [],
   "source": [
    "# 3d plot of PCA\n",
    "px.scatter_3d(pca_df, x='PC1', y='PC2', z='PC3', color = data['Species'], color_discrete_sequence = px.colors.qualitative.Prism,\n",
    "             title = 'PCA 3d Plot')"
   ]
  },
  {
   "cell_type": "markdown",
   "id": "7327b4b1",
   "metadata": {},
   "source": [
    "## K-Means Clustering"
   ]
  },
  {
   "cell_type": "markdown",
   "id": "e0ad39a2",
   "metadata": {},
   "source": [
    "#### PCA Reduced Dataset"
   ]
  },
  {
   "cell_type": "code",
   "execution_count": null,
   "id": "9d0c0e54",
   "metadata": {
    "pycharm": {
     "is_executing": true
    }
   },
   "outputs": [],
   "source": [
    "# x and y values using pca reduced dataset\n",
    "k_x_pca = principalComponents\n",
    "k_y_pca = data.loc[:, data.columns == 'Species'].values"
   ]
  },
  {
   "cell_type": "code",
   "execution_count": null,
   "id": "a4ef2f4f",
   "metadata": {
    "pycharm": {
     "is_executing": true
    }
   },
   "outputs": [],
   "source": [
    "# K-Means using pca reduced dataset and assocaited attributes\n",
    "kmeans_pca = KMeans(n_clusters=3, random_state=0)\n",
    "y_kmeans_pca = kmeans_pca.fit_predict(k_x_pca)\n",
    "k_centers_pca = kmeans_pca.cluster_centers_\n",
    "k_n_clusters_pca = len(k_centers_pca)\n",
    "k_labels_pca = kmeans_pca.labels_"
   ]
  },
  {
   "cell_type": "code",
   "execution_count": null,
   "id": "298ddc8b",
   "metadata": {
    "pycharm": {
     "is_executing": true
    }
   },
   "outputs": [],
   "source": [
    "# create scatter plot of k-means clusters using pca reduced dataset\n",
    "plt.figure(1, figsize=[10,6])\n",
    "plt.scatter(k_x_pca[y_kmeans_pca == 0, 0], k_x_pca[y_kmeans_pca == 0, 1], s=50,\n",
    "           c='peachpuff', marker='D', edgecolor='black', label='Versicolor')\n",
    "plt.scatter(k_x_pca[y_kmeans_pca == 1, 0], k_x_pca[y_kmeans_pca == 1, 1], s=50,\n",
    "           c='skyblue', marker='^', edgecolor='black', label='Setosa')\n",
    "plt.scatter(k_x_pca[y_kmeans_pca == 2, 0], k_x_pca[y_kmeans_pca == 2, 1], s=50,\n",
    "           c='lemonchiffon', marker='s', edgecolor='black', label='Virginica')\n",
    "plt.scatter(k_centers_pca[:,0], k_centers_pca[:, 1], s=250,\n",
    "           marker='o', edgecolor='red', linewidth=2.2, facecolor='none', label='Centroids')\n",
    "plt.legend(scatterpoints=1)\n",
    "plt.grid()\n",
    "plt.tight_layout()\n",
    "plt.show()"
   ]
  },
  {
   "cell_type": "markdown",
   "id": "eca9c5ae",
   "metadata": {},
   "source": [
    "The scatter plot using k-means clustering on the reduced pca dataset produces fairly good clusters for each species of Iris. "
   ]
  },
  {
   "cell_type": "code",
   "execution_count": null,
   "id": "2dcb0e62",
   "metadata": {
    "pycharm": {
     "is_executing": true
    }
   },
   "outputs": [],
   "source": [
    "# vectorize y species values to calculate statistics\n",
    "d = {'Iris-setosa': 0, 'Iris-versicolor': 1, 'Iris-virginica': 2}\n",
    "k_y_pca = k_y_pca.flatten()\n",
    "k_y_pca = np.vectorize(d.get)(k_y_pca)"
   ]
  },
  {
   "cell_type": "code",
   "execution_count": null,
   "id": "e98dd02c",
   "metadata": {
    "pycharm": {
     "is_executing": true
    }
   },
   "outputs": [],
   "source": [
    "# calculate statistics on k-means using pca reduced dataset\n",
    "print('Estimated number of clusters: %d' % k_n_clusters_pca)\n",
    "print(\"Homogeneity: %0.3f\" % metrics.homogeneity_score(k_y_pca, k_labels_pca))\n",
    "print(\"Completeness: %0.3f\" % metrics.completeness_score(k_y_pca, k_labels_pca))\n",
    "print(\"V-measure: %0.3f\" % metrics.v_measure_score(k_y_pca, k_labels_pca))\n",
    "print(\"Adjusted Rand Index: %0.3f\"\n",
    "      % metrics.adjusted_rand_score(k_y_pca, k_labels_pca))\n",
    "print(\"Adjusted Mutual Information: %0.3f\"\n",
    "      % metrics.adjusted_mutual_info_score(k_y_pca, k_labels_pca))\n",
    "print(\"Silhouette Coefficient: %0.3f\"\n",
    "      % metrics.silhouette_score(k_x_pca, k_labels_pca, metric='sqeuclidean'))"
   ]
  },
  {
   "cell_type": "markdown",
   "id": "b10d23ae",
   "metadata": {},
   "source": [
    "The statitics here show that using pca we have a decent clustering algorithm for the pca reduced dataset."
   ]
  },
  {
   "cell_type": "code",
   "execution_count": null,
   "id": "edfffb43",
   "metadata": {
    "pycharm": {
     "is_executing": true
    }
   },
   "outputs": [],
   "source": [
    "#### Original Dataset"
   ]
  },
  {
   "cell_type": "code",
   "execution_count": null,
   "id": "989ff743",
   "metadata": {
    "pycharm": {
     "is_executing": true
    }
   },
   "outputs": [],
   "source": [
    "# x and y values using original dataset\n",
    "k_x = data.loc[:, data.columns != 'Species'].values\n",
    "k_y = data.loc[:, data.columns == 'Species'].values"
   ]
  },
  {
   "cell_type": "code",
   "execution_count": null,
   "id": "d8369aac",
   "metadata": {
    "pycharm": {
     "is_executing": true
    }
   },
   "outputs": [],
   "source": [
    "# K-Means using original dataset values and assocaited attributes\n",
    "kmeans = KMeans(n_clusters=3, init='random', n_init=10, max_iter=300, tol=1e-04, random_state=0)\n",
    "y_kmeans = kmeans.fit_predict(k_x)\n",
    "k_centers = kmeans.cluster_centers_\n",
    "k_n_clusters = len(k_centers)\n",
    "k_labels = kmeans.predict(k_x)"
   ]
  },
  {
   "cell_type": "code",
   "execution_count": null,
   "id": "ef624905",
   "metadata": {
    "pycharm": {
     "is_executing": true
    }
   },
   "outputs": [],
   "source": [
    "# 2d scatter plot of K-Means Clustering\n",
    "plt.figure(1, figsize=[10,6])\n",
    "plt.scatter(k_x[y_kmeans == 0, 1], k_x[y_kmeans == 0, 3], s=50,\n",
    "           c='peachpuff', marker='D', edgecolor='black', label='Versicolor')\n",
    "plt.scatter(k_x[y_kmeans == 1, 1], k_x[y_kmeans == 1, 3], s=50,\n",
    "           c='skyblue', marker='^', edgecolor='black', label='Setosa')\n",
    "plt.scatter(k_x[y_kmeans == 2, 1], k_x[y_kmeans == 2, 3], s=50,\n",
    "           c='lemonchiffon', marker='s', edgecolor='black', label='Virginica')\n",
    "plt.scatter(k_centers[:,1], k_centers[:, 3], s=250,\n",
    "           marker='o', edgecolor='red', linewidth=2.2, facecolor='none', label='Centroids')\n",
    "plt.legend(scatterpoints=1)\n",
    "plt.grid()\n",
    "plt.tight_layout()\n",
    "plt.show()"
   ]
  },
  {
   "cell_type": "markdown",
   "id": "84e4c729",
   "metadata": {},
   "source": [
    "The scatter plot using k-means clustering on the original dataset produces good clusters that do not appear to be quite as good as the pca reduced dataset k-means clustering."
   ]
  },
  {
   "cell_type": "code",
   "execution_count": null,
   "id": "2e357887",
   "metadata": {
    "pycharm": {
     "is_executing": true
    }
   },
   "outputs": [],
   "source": [
    "# vectorize y species values to calculate statistics\n",
    "d = {'Iris-setosa': 0, 'Iris-versicolor': 1, 'Iris-virginica': 2}\n",
    "k_y = k_y.flatten()\n",
    "k_y = np.vectorize(d.get)(k_y)"
   ]
  },
  {
   "cell_type": "code",
   "execution_count": null,
   "id": "4defb098",
   "metadata": {
    "pycharm": {
     "is_executing": true
    }
   },
   "outputs": [],
   "source": [
    "# calculate statistics on k-means using original dataset\n",
    "print('Estimated number of clusters: %d' % k_n_clusters)\n",
    "print(\"Homogeneity: %0.3f\" % metrics.homogeneity_score(k_y, k_labels))\n",
    "print(\"Completeness: %0.3f\" % metrics.completeness_score(k_y, k_labels))\n",
    "print(\"V-measure: %0.3f\" % metrics.v_measure_score(k_y, k_labels))\n",
    "print(\"Adjusted Rand Index: %0.3f\"\n",
    "      % metrics.adjusted_rand_score(k_y, k_labels))\n",
    "print(\"Adjusted Mutual Information: %0.3f\"\n",
    "      % metrics.adjusted_mutual_info_score(k_y, k_labels))\n",
    "print(\"Silhouette Coefficient: %0.3f\"\n",
    "      % metrics.silhouette_score(k_x, k_labels, metric='sqeuclidean'))"
   ]
  },
  {
   "cell_type": "markdown",
   "id": "4e511f70",
   "metadata": {},
   "source": [
    "Despite the scatter plot appearing to show a less accurate clusting on the original dataset, the statistics calculated here say otherwise. "
   ]
  },
  {
   "cell_type": "markdown",
   "id": "2c79e3a0",
   "metadata": {},
   "source": [
    "#### K-Means Conclusions"
   ]
  },
  {
   "cell_type": "markdown",
   "id": "8493f09f",
   "metadata": {},
   "source": [
    "Using k-means clustering on both the pca reduced dataset and the original dataset produces good clustering for identifying the species of Iris. However, doing pca does not appear to be benifical in creating a superior model in this case. "
   ]
  },
  {
   "cell_type": "markdown",
   "id": "fd58151f",
   "metadata": {},
   "source": [
    "## Affinity Propogation"
   ]
  },
  {
   "cell_type": "markdown",
   "id": "9f439adc",
   "metadata": {},
   "source": [
    "#### PCA Reduced Dataset"
   ]
  },
  {
   "cell_type": "code",
   "execution_count": null,
   "id": "c09e3680",
   "metadata": {
    "pycharm": {
     "is_executing": true
    }
   },
   "outputs": [],
   "source": [
    "# x and y values using pca reduced dataset\n",
    "affinity_x_pca = principalComponents\n",
    "affinity_y_pca = data.loc[:, data.columns == 'Species'].values"
   ]
  },
  {
   "cell_type": "code",
   "execution_count": null,
   "id": "7ad4e5b8",
   "metadata": {
    "pycharm": {
     "is_executing": true
    }
   },
   "outputs": [],
   "source": [
    "# Affinity Propagation using pca reduced dataset and assocaited attributes\n",
    "ap_pca = AffinityPropagation(affinity='euclidean', convergence_iter=15, copy=True, damping=0.5, max_iter=200, \n",
    "                         preference=-20, verbose=False, random_state=0)\n",
    "ap_pca.fit(affinity_x_pca)\n",
    "y_affinity_pca = ap_pca.fit_predict(affinity_x_pca)\n",
    "a_centers_pca = ap_pca.cluster_centers_\n",
    "a_indices_pca = ap_pca.cluster_centers_indices_\n",
    "a_n_clusters_pca = len(a_centers_pca)\n",
    "a_labels_pca = ap_pca.predict(affinity_x_pca)"
   ]
  },
  {
   "cell_type": "code",
   "execution_count": null,
   "id": "19e41162",
   "metadata": {
    "pycharm": {
     "is_executing": true
    }
   },
   "outputs": [],
   "source": [
    "# 2d scatter plot of Affinity Propagation Clustering\n",
    "plt.figure(1, figsize=[10,6])\n",
    "plt.scatter(affinity_x_pca[:, 0], affinity_x_pca[:, 1], c=a_labels_pca, s=50)"
   ]
  },
  {
   "cell_type": "code",
   "execution_count": null,
   "id": "89cdde5b",
   "metadata": {
    "pycharm": {
     "is_executing": true
    }
   },
   "outputs": [],
   "source": [
    "# Affinity Propagation plot\n",
    "plt.close(\"all\")\n",
    "plt.figure(1, figsize=[10,6])\n",
    "plt.clf()\n",
    "\n",
    "colors = cycle(\"bgrcmykbgrcmykbgrcmykbgrcmyk\")\n",
    "for k, col in zip(range(a_n_clusters_pca), colors):\n",
    "    class_members = a_labels_pca == k\n",
    "    cluster_center = affinity_x_pca[a_indices_pca[k]]\n",
    "    plt.plot(affinity_x_pca[class_members, 0], affinity_x_pca[class_members, 1], col + \".\")\n",
    "    plt.plot(\n",
    "        cluster_center[0],\n",
    "        cluster_center[1],\n",
    "        \"o\",\n",
    "        markerfacecolor=col,\n",
    "        markeredgecolor=\"k\",\n",
    "        markersize=14,\n",
    "    )\n",
    "    for x in affinity_x_pca[class_members]:\n",
    "        plt.plot([cluster_center[0], x[0]], [cluster_center[1], x[1]], col)\n",
    "\n",
    "plt.title(\"Estimated number of clusters: %d\" % a_n_clusters_pca)\n",
    "plt.show()"
   ]
  },
  {
   "cell_type": "markdown",
   "id": "2a03b0dc",
   "metadata": {},
   "source": [
    "Looking at the plots above it appears that affinity propagation using the pca reduced dataset results in a total of 5 estimated clusters, 2 more than we have species of Iris. "
   ]
  },
  {
   "cell_type": "code",
   "execution_count": null,
   "id": "9905d609",
   "metadata": {
    "pycharm": {
     "is_executing": true
    }
   },
   "outputs": [],
   "source": [
    "# vectorize y species values to calculate statistics\n",
    "d = {'Iris-setosa': 0, 'Iris-versicolor': 1, 'Iris-virginica': 2}\n",
    "affinity_y_pca = affinity_y_pca.flatten()\n",
    "affinity_y_pca = np.vectorize(d.get)(affinity_y_pca.flatten())"
   ]
  },
  {
   "cell_type": "code",
   "execution_count": null,
   "id": "0bb3f9d4",
   "metadata": {
    "pycharm": {
     "is_executing": true
    }
   },
   "outputs": [],
   "source": [
    "# calculate statistics on affinity propagation using pca reduced dataset\n",
    "print('Estimated number of clusters: %d' % a_n_clusters_pca)\n",
    "print(\"Homogeneity: %0.3f\" % metrics.homogeneity_score(affinity_y_pca, a_labels_pca))\n",
    "print(\"Completeness: %0.3f\" % metrics.completeness_score(affinity_y_pca, a_labels_pca))\n",
    "print(\"V-measure: %0.3f\" % metrics.v_measure_score(affinity_y_pca, a_labels_pca))\n",
    "print(\"Adjusted Rand Index: %0.3f\"\n",
    "      % metrics.adjusted_rand_score(affinity_y_pca, a_labels_pca))\n",
    "print(\"Adjusted Mutual Information: %0.3f\"\n",
    "      % metrics.adjusted_mutual_info_score(affinity_y_pca, a_labels_pca))\n",
    "print(\"Silhouette Coefficient: %0.3f\"\n",
    "      % metrics.silhouette_score(affinity_x_pca, a_labels_pca, metric='sqeuclidean'))"
   ]
  },
  {
   "cell_type": "markdown",
   "id": "15cfbb14",
   "metadata": {},
   "source": [
    "As suspected based on the visualizations of the affinity propagation on the pca reduced dataset, the statitics confirm that this has not resulted in incredibly strong clustering with relatively low scores in all statistics besides homogeneity."
   ]
  },
  {
   "cell_type": "markdown",
   "id": "8c6fe53b",
   "metadata": {},
   "source": [
    "#### Original Dataset"
   ]
  },
  {
   "cell_type": "code",
   "execution_count": null,
   "id": "677e108a",
   "metadata": {
    "pycharm": {
     "is_executing": true
    }
   },
   "outputs": [],
   "source": [
    "# x and y values using original dataset\n",
    "affinity_x = data.loc[:, data.columns != 'Species'].values\n",
    "affinity_y = data.loc[:, data.columns == 'Species'].values"
   ]
  },
  {
   "cell_type": "code",
   "execution_count": null,
   "id": "6956f41b",
   "metadata": {
    "pycharm": {
     "is_executing": true
    }
   },
   "outputs": [],
   "source": [
    "# Affinity Propagation using original dataset and assocaited attributes\n",
    "ap = AffinityPropagation(affinity='euclidean', convergence_iter=15, copy=True, damping=0.5, max_iter=200, \n",
    "                         preference=-20, verbose=False, random_state=0)\n",
    "ap.fit(affinity_x)\n",
    "y_affinity = ap.fit_predict(affinity_x)\n",
    "a_centers = ap.cluster_centers_\n",
    "a_indices = ap.cluster_centers_indices_\n",
    "a_n_clusters = len(a_centers)\n",
    "a_labels = ap.predict(affinity_x)"
   ]
  },
  {
   "cell_type": "code",
   "execution_count": null,
   "id": "d8d251f9",
   "metadata": {
    "pycharm": {
     "is_executing": true
    }
   },
   "outputs": [],
   "source": [
    "# 2d scatter plot of Affinity Propagation Clustering\n",
    "plt.figure(1, figsize=[10,6])\n",
    "plt.scatter(affinity_x[:, 0], affinity_x[:, 1], c=a_labels, s=50)"
   ]
  },
  {
   "cell_type": "code",
   "execution_count": null,
   "id": "684f9da0",
   "metadata": {
    "pycharm": {
     "is_executing": true
    }
   },
   "outputs": [],
   "source": [
    "# Affinity Propagation plot \n",
    "plt.close(\"all\")\n",
    "plt.figure(1, figsize=[10,6])\n",
    "plt.clf()\n",
    "\n",
    "colors = cycle(\"bgrcmykbgrcmykbgrcmykbgrcmyk\")\n",
    "for k, col in zip(range(a_n_clusters), colors):\n",
    "    class_members = a_labels == k\n",
    "    cluster_center = affinity_x[a_indices[k]]\n",
    "    plt.plot(affinity_x[class_members, 0], affinity_x[class_members, 1], col + \".\")\n",
    "    plt.plot(\n",
    "        cluster_center[0],\n",
    "        cluster_center[1],\n",
    "        \"o\",\n",
    "        markerfacecolor=col,\n",
    "        markeredgecolor=\"k\",\n",
    "        markersize=14,\n",
    "    )\n",
    "    for x in affinity_x[class_members]:\n",
    "        plt.plot([cluster_center[0], x[0]], [cluster_center[1], x[1]], col)\n",
    "\n",
    "plt.title(\"Estimated number of clusters: %d\" % a_n_clusters)\n",
    "plt.show()"
   ]
  },
  {
   "cell_type": "markdown",
   "id": "280ed864",
   "metadata": {},
   "source": [
    "The plots above for affinity propagation on the original dataset show much better clustering that we achieved using the pca reduced dataset. "
   ]
  },
  {
   "cell_type": "code",
   "execution_count": null,
   "id": "45be9220",
   "metadata": {
    "pycharm": {
     "is_executing": true
    }
   },
   "outputs": [],
   "source": [
    "# vectorize y species values to calculate statistics\n",
    "d = {'Iris-setosa': 0, 'Iris-versicolor': 1, 'Iris-virginica': 2}\n",
    "affinity_y = affinity_y.flatten()\n",
    "affinity_y = np.vectorize(d.get)(affinity_y.flatten())"
   ]
  },
  {
   "cell_type": "code",
   "execution_count": null,
   "id": "09196448",
   "metadata": {
    "pycharm": {
     "is_executing": true
    }
   },
   "outputs": [],
   "source": [
    "# calculate statistics on affinity propagation using original dataset\n",
    "print('Estimated number of clusters: %d' % a_n_clusters)\n",
    "print(\"Homogeneity: %0.3f\" % metrics.homogeneity_score(affinity_y, a_labels))\n",
    "print(\"Completeness: %0.3f\" % metrics.completeness_score(affinity_y, a_labels))\n",
    "print(\"V-measure: %0.3f\" % metrics.v_measure_score(affinity_y, a_labels))\n",
    "print(\"Adjusted Rand Index: %0.3f\"\n",
    "      % metrics.adjusted_rand_score(affinity_y, a_labels))\n",
    "print(\"Adjusted Mutual Information: %0.3f\"\n",
    "      % metrics.adjusted_mutual_info_score(affinity_y, a_labels))\n",
    "print(\"Silhouette Coefficient: %0.3f\"\n",
    "      % metrics.silhouette_score(affinity_x, a_labels, metric='sqeuclidean'))"
   ]
  },
  {
   "cell_type": "markdown",
   "id": "311914db",
   "metadata": {},
   "source": [
    "Unlike the statistics we calulated using the pca reduced dataset, here we have very strong indications, on all calculated statistics, that affinity propagation did very good at clustering the species of Iris together."
   ]
  },
  {
   "cell_type": "markdown",
   "id": "c53f50cd",
   "metadata": {},
   "source": [
    "#### Affinity Propagation Conclusions"
   ]
  },
  {
   "cell_type": "markdown",
   "id": "5dfc2aaf",
   "metadata": {},
   "source": [
    "Using affinity propagation clustering on the original dataset produced a good result for correctly identifying the species of Iris. However, when affinity propagation was used against the pca reduced dataset it did not perform nearly as well, resulting in 2 excess clusters."
   ]
  },
  {
   "cell_type": "markdown",
   "id": "f147c250",
   "metadata": {},
   "source": [
    "## Gaussian Mixtures"
   ]
  },
  {
   "cell_type": "code",
   "execution_count": null,
   "id": "3936c34f",
   "metadata": {
    "pycharm": {
     "is_executing": true
    }
   },
   "outputs": [],
   "source": [
    "# Copying the data\n",
    "gmm_iris_df = scaled_features.copy() # Original Data\n",
    "gmm_iris_df = pd.DataFrame(gmm_iris_df, columns=['Sepal Length', 'Sepal Width', 'Petal Length', 'Petal Width'])\n",
    "gmm_pca_df = pca_df.copy() # PCA Data\n",
    "\n",
    "# Performing Gaussian Mixtures on the Original Data\n",
    "gmm = GaussianMixture(n_components=3)\n",
    "gmm.fit(gmm_iris_df)\n",
    "labels = gmm.predict(gmm_iris_df)\n",
    "gmm_iris_df['labels'] = labels\n",
    "gmm_iris_df['Species'] = data['Species']\n",
    "\n",
    "# Performing Gaussian Mixtures on the PCA Data\n",
    "gmm = GaussianMixture(n_components=3)\n",
    "gmm.fit(pca_df)\n",
    "labels = gmm.predict(pca_df)\n",
    "gmm_pca_df['labels'] = labels\n",
    "gmm_pca_df['Species'] = data['Species']"
   ]
  },
  {
   "cell_type": "markdown",
   "id": "eed2d9c6",
   "metadata": {},
   "source": [
    "Plotting the PCA Data"
   ]
  },
  {
   "cell_type": "code",
   "execution_count": null,
   "id": "e80ca2c4",
   "metadata": {
    "pycharm": {
     "is_executing": true
    }
   },
   "outputs": [],
   "source": [
    "# Creating a 3D Plot\n",
    "fig = px.scatter_3d(gmm_pca_df, x='PC1', y='PC2', z='PC3', color='labels', symbol='Species', opacity=0.7)\n",
    "fig.update_layout(coloraxis_colorbar=dict(yanchor=\"top\", y=1, x=0, ticks=\"outside\"))\n",
    "fig.show()"
   ]
  },
  {
   "cell_type": "code",
   "execution_count": null,
   "id": "4ad34118",
   "metadata": {
    "pycharm": {
     "is_executing": true
    }
   },
   "outputs": [],
   "source": [
    "# Creating a 2D Plot\n",
    "sns.scatterplot(x='PC1', y='PC2', hue='labels', style='Species', data=gmm_pca_df)\n",
    "plt.show()"
   ]
  },
  {
   "cell_type": "markdown",
   "id": "7d7b444d",
   "metadata": {},
   "source": [
    "We see that Iris-Setosa has its own cluster on the side and Iris-Versicolor and Iris-Virginica's clusters very slightly intersect."
   ]
  },
  {
   "cell_type": "markdown",
   "id": "efc9caa7",
   "metadata": {},
   "source": [
    "Plotting the Original Data"
   ]
  },
  {
   "cell_type": "code",
   "execution_count": null,
   "id": "9217e44a",
   "metadata": {
    "pycharm": {
     "is_executing": true
    }
   },
   "outputs": [],
   "source": [
    "# Creating a 3D plot\n",
    "fig = px.scatter_3d(gmm_iris_df, x='Sepal Length', y='Sepal Width', z='Petal Length', color='labels', symbol='Species', opacity=0.7)\n",
    "fig.update_layout(coloraxis_colorbar=dict(yanchor=\"top\", y=1, x=0, ticks=\"outside\"))\n",
    "fig.show()"
   ]
  },
  {
   "cell_type": "code",
   "execution_count": null,
   "id": "087da045",
   "metadata": {
    "pycharm": {
     "is_executing": true
    }
   },
   "outputs": [],
   "source": [
    "# Creating a 2D plot\n",
    "sns.scatterplot(x='Sepal Length', y='Sepal Width', hue='labels', style='Species', data=gmm_iris_df)\n",
    "plt.show()"
   ]
  },
  {
   "cell_type": "markdown",
   "id": "852ebd28",
   "metadata": {},
   "source": [
    "Iris-Setosa still has its own cluster but Iris-Versicolor and Iris-Virginica's clusters are much more muddy"
   ]
  },
  {
   "cell_type": "markdown",
   "id": "03da9e7a",
   "metadata": {},
   "source": [
    "### Conclusions: Gaussian Mixtures\n",
    "\n",
    "Compared to the model on the original data, the gaussian mixtures model almost cleanly divides Iris-Versicolor and Iris-Virginica into their own clusters. There is some error and a small overlap."
   ]
  },
  {
   "cell_type": "markdown",
   "id": "9405f230",
   "metadata": {},
   "source": [
    "## Agglomerative Clustering"
   ]
  },
  {
   "cell_type": "code",
   "execution_count": null,
   "id": "ef0126e2",
   "metadata": {
    "pycharm": {
     "is_executing": true
    }
   },
   "outputs": [],
   "source": [
    "ag = AgglomerativeClustering(\n",
    "    n_clusters=3,\n",
    "    affinity='euclidean',\n",
    "    linkage='ward')\n",
    "\n",
    "ag_predict = ag.fit_predict(features)\n",
    "ag_labels = ag.labels_\n",
    "ag_clusters = ag.n_clusters_\n",
    "ag_leaves = ag.n_leaves_"
   ]
  },
  {
   "cell_type": "code",
   "execution_count": null,
   "id": "62e2af21",
   "metadata": {
    "pycharm": {
     "is_executing": true
    },
    "scrolled": true
   },
   "outputs": [],
   "source": [
    "# scatter plot\n",
    "fig = px.scatter(\n",
    "    data,\n",
    "    x='Petal Length',\n",
    "    y='Petal Width',\n",
    "    color='Species',\n",
    "    symbol= ag_predict\n",
    ")\n",
    "fig.show()"
   ]
  },
  {
   "cell_type": "markdown",
   "id": "c69fd835",
   "metadata": {},
   "source": [
    "Based on the scatter plot (and the corresponding legend), we can see 1 cluster encompassed a single species (setosa). The other 2 clusters were some mix of versicolor and virginica."
   ]
  },
  {
   "cell_type": "code",
   "execution_count": null,
   "id": "7dd10821",
   "metadata": {
    "pycharm": {
     "is_executing": true
    },
    "scrolled": true
   },
   "outputs": [],
   "source": [
    "# confusion matrix\n",
    "d = {'Iris-versicolor': 0, 'Iris-setosa': 1, 'Iris-virginica': 2}\n",
    "target = data['Species'].replace(d)\n",
    "\n",
    "metrics.ConfusionMatrixDisplay.from_predictions(target,ag_predict)\n",
    "plt.grid(visible=None)\n",
    "plt.show()"
   ]
  },
  {
   "cell_type": "markdown",
   "id": "773bfe6a",
   "metadata": {},
   "source": [
    "This confusion matrix confirms that all setosa flowers were clustered together, and there weren't any other species of flower mixed into that cluster. However, about 15 virginica flowers were clustered with 49 of the 50 versicolor flowers, and the remaining versicolor flower was clustered with the remaining 35 virginica flowers."
   ]
  },
  {
   "cell_type": "code",
   "execution_count": null,
   "id": "0d2a6646",
   "metadata": {
    "pycharm": {
     "is_executing": true
    },
    "scrolled": true
   },
   "outputs": [],
   "source": [
    "# Statistics\n",
    "\n",
    "print('Estimated number of clusters: %d' % ag_clusters)\n",
    "print(\"Homogeneity: %0.3f\" % metrics.homogeneity_score(data[\"Species\"],ag_labels))\n",
    "print(\"Completeness: %0.3f\" % metrics.completeness_score(data[\"Species\"],ag_labels))\n",
    "print(\"V-measure: %0.3f\" % metrics.v_measure_score(data[\"Species\"],ag_labels))\n",
    "print(\"Adjusted Rand Index: %0.3f\"\n",
    "      % metrics.adjusted_rand_score(data[\"Species\"],ag_labels))\n",
    "print(\"Adjusted Mutual Information: %0.3f\"\n",
    "      % metrics.adjusted_mutual_info_score(data[\"Species\"],ag_labels))\n",
    "print(\"Silhouette Coefficient: %0.3f\"\n",
    "      % metrics.silhouette_score(features, ag_labels, metric='sqeuclidean'))"
   ]
  },
  {
   "cell_type": "markdown",
   "id": "d3bc0360",
   "metadata": {},
   "source": [
    "### Agglomerative Clustering for PCA dataframe"
   ]
  },
  {
   "cell_type": "code",
   "execution_count": null,
   "id": "e05b3731",
   "metadata": {
    "pycharm": {
     "is_executing": true
    }
   },
   "outputs": [],
   "source": [
    "ag_p = AgglomerativeClustering(\n",
    "    n_clusters=3,\n",
    "    affinity='euclidean',\n",
    "    linkage='ward')\n",
    "\n",
    "ag_predict_pca = ag_p.fit_predict(pca_df)\n",
    "ag_labels_pca = ag_p.labels_\n",
    "ag_clusters_pca = ag_p.n_clusters_\n",
    "ag_leaves_pca = ag_p.n_leaves_"
   ]
  },
  {
   "cell_type": "code",
   "execution_count": null,
   "id": "b9da6fc6",
   "metadata": {
    "pycharm": {
     "is_executing": true
    },
    "scrolled": true
   },
   "outputs": [],
   "source": [
    "# scatter plot (displaying all 3 principal components)\n",
    "fig = px.scatter_3d(\n",
    "    pca_df,\n",
    "    x='PC1',\n",
    "    y='PC2',\n",
    "    z='PC3',\n",
    "    color=data['Species'],\n",
    "    symbol= ag_predict_pca\n",
    ")\n",
    "fig.show()"
   ]
  },
  {
   "cell_type": "markdown",
   "id": "f6c36e9c",
   "metadata": {},
   "source": [
    "By briefly observing this scatter plot, we can see that there was one cluster that included at least 1 of each species, but the other 2 clusters included only 1 species."
   ]
  },
  {
   "cell_type": "code",
   "execution_count": null,
   "id": "d449a272",
   "metadata": {
    "pycharm": {
     "is_executing": true
    },
    "scrolled": true
   },
   "outputs": [],
   "source": [
    "# confusion matrix\n",
    "d = {'Iris-versicolor': 0, 'Iris-setosa': 1, 'Iris-virginica': 2}\n",
    "target = data['Species'].replace(d)\n",
    "\n",
    "metrics.ConfusionMatrixDisplay.from_predictions(target,ag_predict_pca)\n",
    "plt.grid(visible=None)\n",
    "plt.show()"
   ]
  },
  {
   "cell_type": "markdown",
   "id": "4e721100",
   "metadata": {},
   "source": [
    "This time around all versicolor flowers were included in the same cluster, but that cluster also included a setosa flower and 23 virginica flowers. The 2nd cluster included all the remaining setosa flowers, with no other flowers from another iris species. And the 3rd cluster had the last 27 flowers, all virginica."
   ]
  },
  {
   "cell_type": "code",
   "execution_count": null,
   "id": "79419d1a",
   "metadata": {
    "pycharm": {
     "is_executing": true
    }
   },
   "outputs": [],
   "source": [
    "print('Estimated number of clusters: %d' % ag_clusters)\n",
    "print(\"Homogeneity: %0.3f\" % metrics.homogeneity_score(data[\"Species\"],ag_labels_pca))\n",
    "print(\"Completeness: %0.3f\" % metrics.completeness_score(data[\"Species\"],ag_labels_pca))\n",
    "print(\"V-measure: %0.3f\" % metrics.v_measure_score(data[\"Species\"],ag_labels_pca))\n",
    "print(\"Adjusted Rand Index: %0.3f\"\n",
    "      % metrics.adjusted_rand_score(data[\"Species\"],ag_labels_pca))\n",
    "print(\"Adjusted Mutual Information: %0.3f\"\n",
    "      % metrics.adjusted_mutual_info_score(data[\"Species\"],ag_labels_pca))\n",
    "print(\"Silhouette Coefficient: %0.3f\"\n",
    "      % metrics.silhouette_score(pca_df, ag_labels, metric='sqeuclidean'))"
   ]
  },
  {
   "cell_type": "markdown",
   "id": "16b1edf7",
   "metadata": {},
   "source": [
    "### Mean Shift"
   ]
  },
  {
   "cell_type": "code",
   "execution_count": null,
   "id": "c5231d73",
   "metadata": {
    "pycharm": {
     "is_executing": true
    }
   },
   "outputs": [],
   "source": [
    "# Apply Mean Shift to original dataframe\n",
    "bandwidth = estimate_bandwidth(scaled_features, quantile = 0.2, n_samples = len(scaled_features))\n",
    "mean_shift = MeanShift(bandwidth = bandwidth, bin_seeding = True)\n",
    "mean_shift.fit(scaled_features)\n",
    "ms_data_labels = mean_shift.labels_\n",
    "ms_data_cluster_centers = mean_shift.cluster_centers_\n",
    "\n",
    "unique_ms_data_labels = np.unique(ms_data_labels)\n",
    "num_ms_data_clusters_ = len(unique_ms_data_labels)\n",
    "print(\"Number of clusters : %d\" % num_ms_data_clusters_)\n",
    "print(ms_data_cluster_centers)"
   ]
  },
  {
   "cell_type": "markdown",
   "id": "24fc550c",
   "metadata": {},
   "source": [
    "Applying Mean Shift to the original dataframe results in the identification of 3 clusters and produces the coordinates for each cluster."
   ]
  },
  {
   "cell_type": "code",
   "execution_count": null,
   "id": "00ba56e8",
   "metadata": {
    "pycharm": {
     "is_executing": true
    }
   },
   "outputs": [],
   "source": [
    "# Create plot of clusters derived from original data\n",
    "plt.scatter(scaled_features[:,0], scaled_features[:,1], c = ms_data_labels, cmap = 'rainbow', edgecolors = 'b')\n",
    "plt.scatter(ms_data_cluster_centers[:,0], ms_data_cluster_centers[:,1],\n",
    "     color = 'k', s = 20, linewidths = 5)\n",
    "plt.show()"
   ]
  },
  {
   "cell_type": "markdown",
   "id": "0a30340e",
   "metadata": {},
   "source": [
    "The scatter plot depicts the relationship between the original data points and the clusters identified by the Mean Shift."
   ]
  },
  {
   "cell_type": "code",
   "execution_count": null,
   "id": "998d9871",
   "metadata": {
    "pycharm": {
     "is_executing": true
    }
   },
   "outputs": [],
   "source": [
    "# Apply Mean Shift to PCA dataframe\n",
    "bandwidth = estimate_bandwidth(scaled_features, quantile = 0.2, n_samples = len(pca_df))\n",
    "mean_shift = MeanShift(bandwidth = bandwidth, bin_seeding = True)\n",
    "mean_shift.fit(pca_df)\n",
    "ms_pcs_labels = mean_shift.labels_\n",
    "ms_pcs_cluster_centers = mean_shift.cluster_centers_\n",
    "\n",
    "unique_ms_pcs_labels = np.unique(ms_pcs_labels)\n",
    "num_ms_pcs_clusters_ = len(unique_ms_pcs_labels)\n",
    "print(\"Number of clusters : %d\" % num_ms_pcs_clusters_)\n",
    "print(ms_pcs_cluster_centers)"
   ]
  },
  {
   "cell_type": "markdown",
   "id": "d38dd340",
   "metadata": {},
   "source": [
    "Applying Mean Shift to the PCA dataframe results in the identification of 4 clusters and produces the coordinates for each cluster."
   ]
  },
  {
   "cell_type": "code",
   "execution_count": null,
   "id": "0a3694d5",
   "metadata": {
    "pycharm": {
     "is_executing": true
    }
   },
   "outputs": [],
   "source": [
    "# Create plot of clusters derived from principal components\n",
    "plt.scatter(pca_df['PC1'], pca_df['PC2'], c = ms_pcs_labels, cmap = 'rainbow', edgecolors = 'b')\n",
    "plt.scatter(ms_pcs_cluster_centers[:,0], ms_pcs_cluster_centers[:,1],\n",
    "     color = 'k', s = 20, linewidths = 5)\n",
    "plt.show()"
   ]
  },
  {
   "cell_type": "markdown",
   "id": "ce61ea89",
   "metadata": {},
   "source": [
    "The scatter plot depicts the relationship between the principal components and the clusters identified by the Mean Shift."
   ]
  },
  {
   "cell_type": "markdown",
   "id": "11727d40",
   "metadata": {},
   "source": [
    "### Conclusions: Mean shift\n",
    "\n",
    "The application of Mean Shift to the principal components appears to provide better results than seen with the application of the technique to the original dataset, as the distribution of the data points has a much narrower spreads. That is, the clusters become more apparent when derived from the principal components."
   ]
  },
  {
   "cell_type": "markdown",
   "id": "b9b13b0b",
   "metadata": {},
   "source": [
    "### Spectral Clustering"
   ]
  },
  {
   "cell_type": "code",
   "execution_count": null,
   "id": "b599f44a",
   "metadata": {
    "pycharm": {
     "is_executing": true
    }
   },
   "outputs": [],
   "source": [
    "# Apply Spectral Clustering to original dataframe\n",
    "spec_clust = SpectralClustering(n_clusters = 3)\n",
    "spec_clust.fit(scaled_features)\n",
    "sc_data_labels = spec_clust.labels_\n",
    "unique_sc_data_labels = np.unique(sc_data_labels)\n",
    "num_sc_data_clusters_ = len(unique_sc_data_labels)"
   ]
  },
  {
   "cell_type": "code",
   "execution_count": null,
   "id": "2aabc6e4",
   "metadata": {
    "pycharm": {
     "is_executing": true
    }
   },
   "outputs": [],
   "source": [
    "# Create Spectral Clustering plot\n",
    "plt.scatter(scaled_features[:,0], scaled_features[:,1], c = sc_data_labels, cmap = 'rainbow', edgecolors = 'b')\n",
    "plt.show()"
   ]
  },
  {
   "cell_type": "code",
   "execution_count": null,
   "id": "a37d7ea3",
   "metadata": {
    "pycharm": {
     "is_executing": true
    }
   },
   "outputs": [],
   "source": [
    "# Apply Spectral Clustering to PCA dataframe\n",
    "spec_clust = SpectralClustering(n_clusters = 3)\n",
    "spec_clust.fit(pca_df)\n",
    "sc_pcs_labels = spec_clust.labels_\n",
    "unique_sc_pcs_labels = np.unique(sc_pcs_labels)\n",
    "num_sc_pcs_clusters_ = len(unique_sc_pcs_labels)"
   ]
  },
  {
   "cell_type": "code",
   "execution_count": null,
   "id": "42fe9b50",
   "metadata": {
    "pycharm": {
     "is_executing": true
    }
   },
   "outputs": [],
   "source": [
    "# Create Spectral Clustering plot\n",
    "plt.scatter(pca_df['PC1'], pca_df['PC2'], c = sc_pcs_labels, cmap = 'rainbow', edgecolors = 'b')\n",
    "plt.show()"
   ]
  },
  {
   "cell_type": "markdown",
   "id": "40f0bd32",
   "metadata": {},
   "source": [
    "### Conclusions: Spectral Clustering\n",
    "Similarly, utilizing the principal components in the application of Spectral Clustering proves to generate improved results when compared to the results associated with the original dataset. The clusters are more well-defined due to the more compact distribution of data."
   ]
  },
  {
   "cell_type": "markdown",
   "id": "54bf2e12",
   "metadata": {},
   "source": [
    "## DBSCAN Clustering"
   ]
  },
  {
   "cell_type": "code",
   "execution_count": null,
   "id": "75902b0d",
   "metadata": {
    "pycharm": {
     "is_executing": true
    }
   },
   "outputs": [],
   "source": [
    "# Copying the original and PCA Data\n",
    "dbscan_iris_df = scaled_features.copy()\n",
    "dbscan_iris_df = pd.DataFrame(dbscan_iris_df, columns=['Sepal Length', 'Sepal Width', 'Petal Length', 'Petal Width'])\n",
    "dbscan_pca_df = pca_df.copy()\n",
    "\n",
    "# Performing Dbscan on the Original Data\n",
    "dbscan = DBSCAN()\n",
    "dbscan.fit(dbscan_iris_df)\n",
    "labels = dbscan.labels_\n",
    "dbscan_iris_df['labels'] = labels\n",
    "dbscan_iris_df['Species'] = data['Species']\n",
    "\n",
    "# Performing Dbscan on the PCA Data\n",
    "dbscan = DBSCAN()\n",
    "dbscan.fit(dbscan_pca_df)\n",
    "labels = dbscan.labels_\n",
    "dbscan_pca_df['labels'] = labels\n",
    "dbscan_pca_df['Species'] = data['Species']"
   ]
  },
  {
   "cell_type": "markdown",
   "id": "b755f30f",
   "metadata": {},
   "source": [
    "Plotting the PCA Data"
   ]
  },
  {
   "cell_type": "code",
   "execution_count": null,
   "id": "f24c6737",
   "metadata": {
    "pycharm": {
     "is_executing": true
    }
   },
   "outputs": [],
   "source": [
    "# Creating a 3D Plot\n",
    "fig = px.scatter_3d(dbscan_pca_df, x='PC1', y='PC2', z='PC3', color='labels', symbol='Species', opacity=0.7)\n",
    "fig.update_layout(coloraxis_colorbar=dict(yanchor=\"top\", y=1, x=0, ticks=\"outside\"))\n",
    "fig.show()"
   ]
  },
  {
   "cell_type": "code",
   "execution_count": null,
   "id": "98064e58",
   "metadata": {
    "pycharm": {
     "is_executing": true
    }
   },
   "outputs": [],
   "source": [
    "# Creating a 2D Plot\n",
    "sns.scatterplot(x='PC1', y='PC2', hue='labels', style='Species', data=dbscan_pca_df)\n",
    "plt.show()"
   ]
  },
  {
   "cell_type": "markdown",
   "id": "88a9f533",
   "metadata": {},
   "source": [
    "DBSCAN creates 3 clusters, 1 of most of Iris-Setosa, another of most of Iris-Versicolor and Iris-Virginica, and the third seems to be the outliers."
   ]
  },
  {
   "cell_type": "markdown",
   "id": "523b2539",
   "metadata": {},
   "source": [
    "Plotting the Original Data"
   ]
  },
  {
   "cell_type": "code",
   "execution_count": null,
   "id": "2abd1589",
   "metadata": {
    "pycharm": {
     "is_executing": true
    }
   },
   "outputs": [],
   "source": [
    "# Creating a 3D Plot\n",
    "fig = px.scatter_3d(dbscan_iris_df, x='Sepal Length', y='Sepal Width', z='Petal Length', color='labels', symbol='Species', opacity=0.7)\n",
    "fig.update_layout(coloraxis_colorbar=dict(yanchor=\"top\", y=1, x=0, ticks=\"outside\"))\n",
    "fig.show()"
   ]
  },
  {
   "cell_type": "code",
   "execution_count": null,
   "id": "e8d6022a",
   "metadata": {
    "pycharm": {
     "is_executing": true
    }
   },
   "outputs": [],
   "source": [
    "# Creating a 2D Plot\n",
    "sns.scatterplot(x='Sepal Length', y='Sepal Width', hue='labels', style='Species', data=dbscan_iris_df)\n",
    "plt.show()"
   ]
  },
  {
   "cell_type": "markdown",
   "id": "82ed918f",
   "metadata": {},
   "source": [
    "DBSCAN again finds 3 clusters, however they are even less segregated."
   ]
  },
  {
   "cell_type": "markdown",
   "id": "5f471ab0",
   "metadata": {},
   "source": [
    "### Conclusions: DBSCAN\n",
    "\n",
    "DBSCAN almost successfully clusters Iris-Setosa as its own cluster, but then fails to find any meaningful cluster for the other two species, creating the third as a group of seemily outliers from all species."
   ]
  },
  {
   "cell_type": "markdown",
   "id": "f0dffd78",
   "metadata": {},
   "source": [
    "## OPTICS Clustering"
   ]
  },
  {
   "cell_type": "code",
   "execution_count": null,
   "id": "100fc05a",
   "metadata": {
    "pycharm": {
     "is_executing": true
    }
   },
   "outputs": [],
   "source": [
    "# Copying the original and PCA data\n",
    "optics_iris_df = scaled_features.copy()\n",
    "optics_iris_df = pd.DataFrame(optics_iris_df, columns=['Sepal Length', 'Sepal Width', 'Petal Length', 'Petal Width'])\n",
    "optics_pca_df = pca_df.copy()\n",
    "\n",
    "# Performing Optics on the Original Data\n",
    "optics = OPTICS(min_samples=5, xi=.05, min_cluster_size=.05)\n",
    "optics.fit(optics_iris_df)\n",
    "labels = optics.labels_\n",
    "optics_iris_df['labels'] = labels\n",
    "optics_iris_df['Species'] = data['Species']\n",
    "\n",
    "# Performing Optics on the PCA Data\n",
    "optics = OPTICS(min_samples=5, xi=.05, min_cluster_size=.05)\n",
    "optics.fit(pca_df)\n",
    "labels = optics.labels_\n",
    "optics_pca_df['labels'] = labels\n",
    "optics_pca_df['Species'] = data['Species']"
   ]
  },
  {
   "cell_type": "markdown",
   "id": "a30852c5",
   "metadata": {},
   "source": [
    "Plotting the PCA Data"
   ]
  },
  {
   "cell_type": "code",
   "execution_count": null,
   "id": "9a6f9c61",
   "metadata": {
    "pycharm": {
     "is_executing": true
    }
   },
   "outputs": [],
   "source": [
    "# Creating a 3D Plot\n",
    "fig = px.scatter_3d(optics_pca_df, x='PC1', y='PC2', z='PC3', color='labels', symbol='Species', opacity=0.7)\n",
    "fig.update_layout(coloraxis_colorbar=dict(yanchor=\"top\", y=1, x=0, ticks=\"outside\"))\n",
    "fig.show()"
   ]
  },
  {
   "cell_type": "code",
   "execution_count": null,
   "id": "69711e48",
   "metadata": {
    "pycharm": {
     "is_executing": true
    }
   },
   "outputs": [],
   "source": [
    "# Creating a 2D Plot\n",
    "sns.scatterplot(x='PC1', y='PC2', hue='labels', style='Species', data=optics_pca_df)\n",
    "plt.show()"
   ]
  },
  {
   "cell_type": "markdown",
   "id": "f1b3f05a",
   "metadata": {},
   "source": [
    "Optics has identified many smaller clusters while classing the rest as a singular cluster"
   ]
  },
  {
   "cell_type": "markdown",
   "id": "134c76c8",
   "metadata": {},
   "source": [
    "Plotting Optics Clustering on the Original Data"
   ]
  },
  {
   "cell_type": "code",
   "execution_count": null,
   "id": "f0993835",
   "metadata": {
    "pycharm": {
     "is_executing": true
    }
   },
   "outputs": [],
   "source": [
    "# Creating a 3D Plot\n",
    "fig = px.scatter_3d(optics_iris_df, x='Sepal Length', y='Sepal Width', z='Petal Length', color='labels', symbol='Species', opacity=0.7)\n",
    "fig.update_layout(coloraxis_colorbar=dict(yanchor=\"top\", y=1, x=0, ticks=\"outside\"))\n",
    "fig.show()"
   ]
  },
  {
   "cell_type": "code",
   "execution_count": null,
   "id": "f217b8b8",
   "metadata": {
    "pycharm": {
     "is_executing": true
    }
   },
   "outputs": [],
   "source": [
    "# Creating a 2D Plot\n",
    "sns.scatterplot(x='Sepal Length', y='Sepal Width', hue='labels', style='Species', data=optics_iris_df)\n",
    "plt.show()"
   ]
  },
  {
   "cell_type": "markdown",
   "id": "fa1d03b1",
   "metadata": {},
   "source": [
    "As with the PCA Data, Optics created many smaller clusters for each species, however this is much muddier than the pca data."
   ]
  },
  {
   "cell_type": "markdown",
   "id": "b75a9d22",
   "metadata": {},
   "source": [
    "### Conclusion: OPTICS\n",
    "\n",
    "Optics doesn't perform very well with the IRIS Dataset, mainly because there isn't enough datapoints to cluster. Optics recommends no fewer than 500 datapoints, whereas the IRIS only has 140."
   ]
  }
 ],
 "metadata": {
  "kernelspec": {
   "display_name": "Python 3 (ipykernel)",
   "language": "python",
   "name": "python3"
  },
  "language_info": {
   "codemirror_mode": {
    "name": "ipython",
    "version": 3
   },
   "file_extension": ".py",
   "mimetype": "text/x-python",
   "name": "python",
   "nbconvert_exporter": "python",
   "pygments_lexer": "ipython3",
   "version": "3.10.0"
  }
 },
 "nbformat": 4,
 "nbformat_minor": 5
}
